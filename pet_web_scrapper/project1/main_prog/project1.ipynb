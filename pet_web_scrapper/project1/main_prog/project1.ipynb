{
 "cells": [
  {
   "cell_type": "markdown",
   "metadata": {},
   "source": [
    " # Домашняя работа по теории вероятности\n"
   ]
  },
  {
   "cell_type": "markdown",
   "metadata": {},
   "source": [
    "Задача: собрать цены квартир жилого комплекса *\"Спутник\"* вместе с дополнительной информацией и статически их проанализировать, найдя доверительный интервал цен двумя способами и сохранить сведения о квартирах, которые в них попали в их пересечение"
   ]
  },
  {
   "cell_type": "markdown",
   "metadata": {},
   "source": [
    "## Часть 0\n",
    "**Установка зависимостей**"
   ]
  },
  {
   "cell_type": "code",
   "execution_count": 12,
   "metadata": {},
   "outputs": [
    {
     "name": "stdout",
     "output_type": "stream",
     "text": [
      "Requirement already satisfied: beautifulsoup4==4.11.1 in /home/sergey/anaconda3/lib/python3.9/site-packages (from -r requirements.txt (line 1)) (4.11.1)\n",
      "Requirement already satisfied: chromedriver_py==106.0.5249.61 in /home/sergey/.local/lib/python3.9/site-packages (from -r requirements.txt (line 2)) (106.0.5249.61)\n",
      "Requirement already satisfied: numpy==1.20.3 in /home/sergey/anaconda3/lib/python3.9/site-packages (from -r requirements.txt (line 3)) (1.20.3)\n",
      "Requirement already satisfied: pandas==1.3.4 in /home/sergey/anaconda3/lib/python3.9/site-packages (from -r requirements.txt (line 4)) (1.3.4)\n",
      "Requirement already satisfied: scipy==1.7.1 in /home/sergey/anaconda3/lib/python3.9/site-packages (from -r requirements.txt (line 5)) (1.7.1)\n",
      "Requirement already satisfied: selenium==4.5.0 in /home/sergey/anaconda3/lib/python3.9/site-packages (from -r requirements.txt (line 6)) (4.5.0)\n",
      "Requirement already satisfied: webdriver_manager==3.8.3 in /home/sergey/anaconda3/lib/python3.9/site-packages (from -r requirements.txt (line 7)) (3.8.3)\n",
      "Requirement already satisfied: soupsieve>1.2 in /home/sergey/anaconda3/lib/python3.9/site-packages (from beautifulsoup4==4.11.1->-r requirements.txt (line 1)) (2.2.1)\n",
      "Requirement already satisfied: python-dateutil>=2.7.3 in /home/sergey/anaconda3/lib/python3.9/site-packages (from pandas==1.3.4->-r requirements.txt (line 4)) (2.8.2)\n",
      "Requirement already satisfied: pytz>=2017.3 in /home/sergey/anaconda3/lib/python3.9/site-packages (from pandas==1.3.4->-r requirements.txt (line 4)) (2021.3)\n",
      "Requirement already satisfied: trio~=0.17 in /home/sergey/anaconda3/lib/python3.9/site-packages (from selenium==4.5.0->-r requirements.txt (line 6)) (0.21.0)\n",
      "Requirement already satisfied: certifi>=2021.10.8 in /home/sergey/anaconda3/lib/python3.9/site-packages (from selenium==4.5.0->-r requirements.txt (line 6)) (2021.10.8)\n",
      "Requirement already satisfied: urllib3[socks]~=1.26 in /home/sergey/anaconda3/lib/python3.9/site-packages (from selenium==4.5.0->-r requirements.txt (line 6)) (1.26.7)\n",
      "Requirement already satisfied: trio-websocket~=0.9 in /home/sergey/anaconda3/lib/python3.9/site-packages (from selenium==4.5.0->-r requirements.txt (line 6)) (0.9.2)\n",
      "Requirement already satisfied: requests in /home/sergey/anaconda3/lib/python3.9/site-packages (from webdriver_manager==3.8.3->-r requirements.txt (line 7)) (2.26.0)\n",
      "Requirement already satisfied: python-dotenv in /home/sergey/anaconda3/lib/python3.9/site-packages (from webdriver_manager==3.8.3->-r requirements.txt (line 7)) (0.20.0)\n",
      "Requirement already satisfied: tqdm in /home/sergey/anaconda3/lib/python3.9/site-packages (from webdriver_manager==3.8.3->-r requirements.txt (line 7)) (4.62.3)\n",
      "Requirement already satisfied: six>=1.5 in /home/sergey/anaconda3/lib/python3.9/site-packages (from python-dateutil>=2.7.3->pandas==1.3.4->-r requirements.txt (line 4)) (1.16.0)\n",
      "Requirement already satisfied: sniffio in /home/sergey/anaconda3/lib/python3.9/site-packages (from trio~=0.17->selenium==4.5.0->-r requirements.txt (line 6)) (1.2.0)\n",
      "Requirement already satisfied: sortedcontainers in /home/sergey/anaconda3/lib/python3.9/site-packages (from trio~=0.17->selenium==4.5.0->-r requirements.txt (line 6)) (2.4.0)\n",
      "Requirement already satisfied: attrs>=19.2.0 in /home/sergey/anaconda3/lib/python3.9/site-packages (from trio~=0.17->selenium==4.5.0->-r requirements.txt (line 6)) (21.2.0)\n",
      "Requirement already satisfied: async-generator>=1.9 in /home/sergey/anaconda3/lib/python3.9/site-packages (from trio~=0.17->selenium==4.5.0->-r requirements.txt (line 6)) (1.10)\n",
      "Requirement already satisfied: outcome in /home/sergey/anaconda3/lib/python3.9/site-packages (from trio~=0.17->selenium==4.5.0->-r requirements.txt (line 6)) (1.2.0)\n",
      "Requirement already satisfied: idna in /home/sergey/anaconda3/lib/python3.9/site-packages (from trio~=0.17->selenium==4.5.0->-r requirements.txt (line 6)) (3.2)\n",
      "Requirement already satisfied: wsproto>=0.14 in /home/sergey/anaconda3/lib/python3.9/site-packages (from trio-websocket~=0.9->selenium==4.5.0->-r requirements.txt (line 6)) (1.1.0)\n",
      "Requirement already satisfied: PySocks!=1.5.7,<2.0,>=1.5.6 in /home/sergey/anaconda3/lib/python3.9/site-packages (from urllib3[socks]~=1.26->selenium==4.5.0->-r requirements.txt (line 6)) (1.7.1)\n",
      "Requirement already satisfied: h11<1,>=0.9.0 in /home/sergey/anaconda3/lib/python3.9/site-packages (from wsproto>=0.14->trio-websocket~=0.9->selenium==4.5.0->-r requirements.txt (line 6)) (0.13.0)\n",
      "Requirement already satisfied: charset-normalizer~=2.0.0 in /home/sergey/anaconda3/lib/python3.9/site-packages (from requests->webdriver_manager==3.8.3->-r requirements.txt (line 7)) (2.0.4)\n",
      "Note: you may need to restart the kernel to use updated packages.\n"
     ]
    }
   ],
   "source": [
    "#если нет pip в конде, то раскомментить строку ниже\n",
    "#%conda install pip\n",
    "%pip install -r requirements.txt"
   ]
  },
  {
   "cell_type": "markdown",
   "metadata": {},
   "source": [
    "## Часть 1\n",
    "**Сбор данных**"
   ]
  },
  {
   "cell_type": "code",
   "execution_count": 11,
   "metadata": {},
   "outputs": [],
   "source": [
    "from shutil import which\n",
    "import pandas as pd\n",
    "from bs4 import BeautifulSoup # pip install bs4\n",
    "from selenium import webdriver # pip install selenium\n",
    "from selenium.webdriver.chrome.service import Service\n",
    "from selenium.webdriver.common.by import By\n",
    "from webdriver_manager.chrome import ChromeDriverManager # pip install webdriver_manager\n",
    "from selenium.common.exceptions import StaleElementReferenceException\n",
    "from selenium.common.exceptions import NoSuchElementException\n",
    "from time import sleep"
   ]
  },
  {
   "cell_type": "code",
   "execution_count": 2,
   "metadata": {},
   "outputs": [],
   "source": [
    "# проверка, запускается ли код у меня или у другого с браузером вивальди\n",
    "vivaldi_existance = which(\"vivaldi\")\n",
    "if vivaldi_existance:\n",
    "    import chromedriver_py # pip install --user chromedriver-py==106.0.5249.61\n",
    "    driverPATH = chromedriver_py.binary_path\n",
    "    browserBIN = which(\"vivaldi\")"
   ]
  },
  {
   "cell_type": "code",
   "execution_count": 3,
   "metadata": {},
   "outputs": [
    {
     "name": "stdout",
     "output_type": "stream",
     "text": [
      "Информация получена!\n"
     ]
    }
   ],
   "source": [
    "# запуск драйвера и получение html кода\n",
    "site = \"https://samolet.ru/flats/?ordering=filter_price,pk&free=1&project=7\"\n",
    "# проверка, запускается ли код у меня или у другого с браузером вивальди\n",
    "if vivaldi_existance:\n",
    "    options = webdriver.ChromeOptions()\n",
    "    options.binary_location = browserBIN\n",
    "    driver = webdriver.Chrome(service=Service(driverPATH), options=options)\n",
    "else: # если код запускается у человека с хромом\n",
    "    driver = webdriver.Chrome(service=Service(ChromeDriverManager().install()))\n",
    "driver.get(site) # запрос на переход на сайт\n",
    "sleep(1.5)\n",
    "driver.execute_script(\"window.scrollTo(0, document.body.scrollHeight-1800);\") # проматывание до кнопки\n",
    "button = driver.find_element(By.XPATH, '//button[@class=\"r-btn _size-m _primary\"]') # создание интерактивного с кнопкой объекта\n",
    "driver.execute_script(\"arguments[0].click();\", button) # кликание по кнопке через объект\n",
    "try:\n",
    "    while button.is_displayed(): # пока кнопка будет отображаться, будем её кликать и матать вниз\n",
    "        try:\n",
    "            sleep(1.5)\n",
    "            driver.execute_script(\"window.scrollTo(0, document.body.scrollHeight-1800);\") \n",
    "            button = driver.find_element(By.XPATH, '//button[@class=\"r-btn _size-m _primary\"]') \n",
    "            sleep(0.5)\n",
    "            driver.execute_script(\"arguments[0].click();\", button) \n",
    "        except NoSuchElementException:\n",
    "            break\n",
    "except StaleElementReferenceException:\n",
    "    pass\n",
    "content = driver.page_source # извлечение html кода\n",
    "driver.quit() # закрываем браузер\n",
    "soup = BeautifulSoup(content, features=\"lxml\") # вгоняем в суп\n",
    "print('Информация получена!')"
   ]
  },
  {
   "cell_type": "markdown",
   "metadata": {},
   "source": [
    "## Часть 2\n",
    "**Обработка данных**"
   ]
  },
  {
   "cell_type": "markdown",
   "metadata": {},
   "source": [
    "На данном этапе мы пропарсим полученный html код и извлечем всю нужную информацию: цена, площадь, тип квартиры и ссылка на её покупку"
   ]
  },
  {
   "cell_type": "code",
   "execution_count": 70,
   "metadata": {},
   "outputs": [],
   "source": [
    "# получаем список квартир\n",
    "raw_info = soup.find('div', {'class':'flats-container__list-cards'})\n",
    "list_of_flats = raw_info.find_all('div', {'class':'flats-container__list-card'})"
   ]
  },
  {
   "cell_type": "code",
   "execution_count": 71,
   "metadata": {},
   "outputs": [],
   "source": [
    "links_to_purchase = []\n",
    "prices = []\n",
    "areas = []\n",
    "types_of_flats = []\n",
    "for flat in list_of_flats:\n",
    "    try:\n",
    "        links_to_purchase.append(flat.a['href'])\n",
    "        card = flat.find('div', {'class':'card__wrap'})\n",
    "        price_info = card.find('div', {'class':'card__price'})\n",
    "        other_info = card.find('div', {'class':'card__container'}).ul.find_all('li')[0:2]\n",
    "        price = int(price_info.span.text.replace('\\n', '').strip().replace('\\xa0₽', '').replace(' ', ''))\n",
    "        type_of_flat = other_info[0].text.replace('\\n', '').strip()\n",
    "        area = float(other_info[1].text.replace('\\n', '').strip().replace(' м²', '').replace(',','.'))\n",
    "        prices.append(price)\n",
    "        types_of_flats.append(type_of_flat)\n",
    "        areas.append(area)\n",
    "    except AttributeError:\n",
    "        pass\n",
    "    except TypeError:\n",
    "        pass"
   ]
  },
  {
   "cell_type": "code",
   "execution_count": 77,
   "metadata": {},
   "outputs": [
    {
     "data": {
      "text/html": [
       "<div>\n",
       "<style scoped>\n",
       "    .dataframe tbody tr th:only-of-type {\n",
       "        vertical-align: middle;\n",
       "    }\n",
       "\n",
       "    .dataframe tbody tr th {\n",
       "        vertical-align: top;\n",
       "    }\n",
       "\n",
       "    .dataframe thead th {\n",
       "        text-align: right;\n",
       "    }\n",
       "</style>\n",
       "<table border=\"1\" class=\"dataframe\">\n",
       "  <thead>\n",
       "    <tr style=\"text-align: right;\">\n",
       "      <th></th>\n",
       "      <th>Тип квартиры</th>\n",
       "      <th>Цена</th>\n",
       "      <th>Площадь (м²)</th>\n",
       "      <th>Ссылка на покупку</th>\n",
       "    </tr>\n",
       "  </thead>\n",
       "  <tbody>\n",
       "    <tr>\n",
       "      <th>0</th>\n",
       "      <td>Студия</td>\n",
       "      <td>5474332</td>\n",
       "      <td>19.20</td>\n",
       "      <td>https://samolet.ru/project/sputnik/flats/21092...</td>\n",
       "    </tr>\n",
       "    <tr>\n",
       "      <th>1</th>\n",
       "      <td>Студия</td>\n",
       "      <td>5661222</td>\n",
       "      <td>20.10</td>\n",
       "      <td>https://samolet.ru/project/sputnik/flats/21099...</td>\n",
       "    </tr>\n",
       "    <tr>\n",
       "      <th>2</th>\n",
       "      <td>Студия</td>\n",
       "      <td>5798398</td>\n",
       "      <td>20.20</td>\n",
       "      <td>https://samolet.ru/project/sputnik/flats/21105...</td>\n",
       "    </tr>\n",
       "    <tr>\n",
       "      <th>3</th>\n",
       "      <td>Студия</td>\n",
       "      <td>5851975</td>\n",
       "      <td>23.20</td>\n",
       "      <td>https://samolet.ru/project/sputnik/flats/20792...</td>\n",
       "    </tr>\n",
       "    <tr>\n",
       "      <th>4</th>\n",
       "      <td>Студия</td>\n",
       "      <td>6233690</td>\n",
       "      <td>24.60</td>\n",
       "      <td>https://samolet.ru/project/sputnik/flats/21079...</td>\n",
       "    </tr>\n",
       "    <tr>\n",
       "      <th>...</th>\n",
       "      <td>...</td>\n",
       "      <td>...</td>\n",
       "      <td>...</td>\n",
       "      <td>...</td>\n",
       "    </tr>\n",
       "    <tr>\n",
       "      <th>708</th>\n",
       "      <td>4-комн.</td>\n",
       "      <td>17488928</td>\n",
       "      <td>86.30</td>\n",
       "      <td>https://samolet.ru/project/sputnik/flats/21117...</td>\n",
       "    </tr>\n",
       "    <tr>\n",
       "      <th>709</th>\n",
       "      <td>4-комн.</td>\n",
       "      <td>17965247</td>\n",
       "      <td>84.57</td>\n",
       "      <td>https://samolet.ru/project/sputnik/flats/70471...</td>\n",
       "    </tr>\n",
       "    <tr>\n",
       "      <th>710</th>\n",
       "      <td>4-комн.</td>\n",
       "      <td>22662460</td>\n",
       "      <td>92.55</td>\n",
       "      <td>https://samolet.ru/project/sputnik/flats/12617...</td>\n",
       "    </tr>\n",
       "    <tr>\n",
       "      <th>711</th>\n",
       "      <td>4-комн.</td>\n",
       "      <td>22728540</td>\n",
       "      <td>92.55</td>\n",
       "      <td>https://samolet.ru/project/sputnik/flats/12619...</td>\n",
       "    </tr>\n",
       "    <tr>\n",
       "      <th>712</th>\n",
       "      <td>3-комн.</td>\n",
       "      <td>23789539</td>\n",
       "      <td>82.40</td>\n",
       "      <td>https://samolet.ru/project/sputnik/flats/21739...</td>\n",
       "    </tr>\n",
       "  </tbody>\n",
       "</table>\n",
       "<p>713 rows × 4 columns</p>\n",
       "</div>"
      ],
      "text/plain": [
       "    Тип квартиры      Цена  Площадь (м²)  \\\n",
       "0         Студия   5474332         19.20   \n",
       "1         Студия   5661222         20.10   \n",
       "2         Студия   5798398         20.20   \n",
       "3         Студия   5851975         23.20   \n",
       "4         Студия   6233690         24.60   \n",
       "..           ...       ...           ...   \n",
       "708      4-комн.  17488928         86.30   \n",
       "709      4-комн.  17965247         84.57   \n",
       "710      4-комн.  22662460         92.55   \n",
       "711      4-комн.  22728540         92.55   \n",
       "712      3-комн.  23789539         82.40   \n",
       "\n",
       "                                     Ссылка на покупку  \n",
       "0    https://samolet.ru/project/sputnik/flats/21092...  \n",
       "1    https://samolet.ru/project/sputnik/flats/21099...  \n",
       "2    https://samolet.ru/project/sputnik/flats/21105...  \n",
       "3    https://samolet.ru/project/sputnik/flats/20792...  \n",
       "4    https://samolet.ru/project/sputnik/flats/21079...  \n",
       "..                                                 ...  \n",
       "708  https://samolet.ru/project/sputnik/flats/21117...  \n",
       "709  https://samolet.ru/project/sputnik/flats/70471...  \n",
       "710  https://samolet.ru/project/sputnik/flats/12617...  \n",
       "711  https://samolet.ru/project/sputnik/flats/12619...  \n",
       "712  https://samolet.ru/project/sputnik/flats/21739...  \n",
       "\n",
       "[713 rows x 4 columns]"
      ]
     },
     "execution_count": 77,
     "metadata": {},
     "output_type": "execute_result"
    }
   ],
   "source": [
    "flats_df = pd.DataFrame({\n",
    "    \"Тип квартиры\": types_of_flats,\n",
    "    \"Цена\": prices,\n",
    "    \"Площадь (м²)\": areas,\n",
    "    \"Ссылка на покупку\": links_to_purchase\n",
    "})\n",
    "flats_df"
   ]
  },
  {
   "cell_type": "markdown",
   "metadata": {},
   "source": [
    "Получили выборку из 713 квартир. Приступим к статистической части"
   ]
  },
  {
   "cell_type": "markdown",
   "metadata": {},
   "source": [
    "## Часть 3\n",
    "**Получение доверительных интервалов**\n",
    "\n",
    "Сначала найдем все статистические данные"
   ]
  },
  {
   "cell_type": "code",
   "execution_count": 89,
   "metadata": {},
   "outputs": [
    {
     "data": {
      "text/plain": [
       "0       5474332\n",
       "1       5661222\n",
       "2       5798398\n",
       "3       5851975\n",
       "4       6233690\n",
       "         ...   \n",
       "708    17488928\n",
       "709    17965247\n",
       "710    22662460\n",
       "711    22728540\n",
       "712    23789539\n",
       "Name: Цена, Length: 713, dtype: int64"
      ]
     },
     "execution_count": 89,
     "metadata": {},
     "output_type": "execute_result"
    }
   ],
   "source": [
    "prices = flats_df['Цена']\n",
    "prices"
   ]
  },
  {
   "cell_type": "code",
   "execution_count": 115,
   "metadata": {},
   "outputs": [
    {
     "name": "stdout",
     "output_type": "stream",
     "text": [
      "Средняя цена - 10343091.243 рублей\n",
      "Размах - 18315207 рублей\n",
      "Коэффициент относительного колебания значения крайних цен от средней - 177.077%\n",
      "Неисправленная дисперсия - 6625117485369.463 рублей\n",
      "Исправленная дисперсия - 6634422425657.903 рублей\n",
      "Стандартное отклонение - 2575737.259 рублей\n",
      "Коэффициент вариации - 24.903%\n"
     ]
    }
   ],
   "source": [
    "prices_mean = prices.mean()\n",
    "print(f\"Средняя цена - {prices_mean:.3f} рублей\")\n",
    "R = prices.max() - prices.min()\n",
    "print(f\"Размах - {R} рублей\")\n",
    "k_0 = R/prices_mean\n",
    "print(f\"Коэффициент относительного колебания значения крайних цен от средней - {k_0*100:.3f}%\")\n",
    "D_in = prices.var(ddof=0)\n",
    "print(f\"Неисправленная дисперсия - {D_in:.3f} рублей\")\n",
    "D = prices.var()\n",
    "print(f\"Исправленная дисперсия - {D:.3f} рублей\")\n",
    "prices_std = prices.std()\n",
    "print(f\"Стандартное отклонение - {prices_std:.3f} рублей\")\n",
    "var_q = prices_std/prices_mean\n",
    "print(f\"Коэффициент вариации - {var_q*100:.3f}%\")"
   ]
  },
  {
   "cell_type": "markdown",
   "metadata": {},
   "source": [
    "### Часть 3.1\n",
    "*Способ первый - распределение Стьюдента*"
   ]
  },
  {
   "cell_type": "code",
   "execution_count": 98,
   "metadata": {},
   "outputs": [],
   "source": [
    "import numpy as np\n",
    "from scipy.stats import t\n",
    "\n",
    "# зададим надежность \n",
    "confidence = 0.95\n",
    "n_minus_one = len(prices)-1\n",
    "\n",
    "# вычислим t\n",
    "t_ = np.abs(t.ppf((1-confidence)/2, n_minus_one))"
   ]
  },
  {
   "cell_type": "code",
   "execution_count": 101,
   "metadata": {},
   "outputs": [
    {
     "name": "stdout",
     "output_type": "stream",
     "text": [
      "Полученный первым способом доверительный интервал: (10153707.030, 10532475.455)\n"
     ]
    }
   ],
   "source": [
    "interval1_left, interval1_right = prices_mean-prices_std*t_/np.sqrt(len(prices)), prices_mean+prices_std*t_/np.sqrt(len(prices))\n",
    "print(f\"Полученный первым способом доверительный интервал: ({interval1_left:.3f}, {interval1_right:.3f})\")"
   ]
  },
  {
   "cell_type": "code",
   "execution_count": 111,
   "metadata": {},
   "outputs": [
    {
     "data": {
      "text/html": [
       "<div>\n",
       "<style scoped>\n",
       "    .dataframe tbody tr th:only-of-type {\n",
       "        vertical-align: middle;\n",
       "    }\n",
       "\n",
       "    .dataframe tbody tr th {\n",
       "        vertical-align: top;\n",
       "    }\n",
       "\n",
       "    .dataframe thead th {\n",
       "        text-align: right;\n",
       "    }\n",
       "</style>\n",
       "<table border=\"1\" class=\"dataframe\">\n",
       "  <thead>\n",
       "    <tr style=\"text-align: right;\">\n",
       "      <th></th>\n",
       "      <th>Тип квартиры</th>\n",
       "      <th>Цена</th>\n",
       "      <th>Площадь (м²)</th>\n",
       "      <th>Ссылка на покупку</th>\n",
       "    </tr>\n",
       "  </thead>\n",
       "  <tbody>\n",
       "    <tr>\n",
       "      <th>425</th>\n",
       "      <td>2-комн.</td>\n",
       "      <td>10179436</td>\n",
       "      <td>47.10</td>\n",
       "      <td>https://samolet.ru/project/sputnik/flats/20824...</td>\n",
       "    </tr>\n",
       "    <tr>\n",
       "      <th>426</th>\n",
       "      <td>2-комн.</td>\n",
       "      <td>10182764</td>\n",
       "      <td>46.60</td>\n",
       "      <td>https://samolet.ru/project/sputnik/flats/20833...</td>\n",
       "    </tr>\n",
       "    <tr>\n",
       "      <th>427</th>\n",
       "      <td>1-комн.</td>\n",
       "      <td>10184452</td>\n",
       "      <td>49.19</td>\n",
       "      <td>https://samolet.ru/project/sputnik/flats/11447...</td>\n",
       "    </tr>\n",
       "    <tr>\n",
       "      <th>428</th>\n",
       "      <td>2-комн.</td>\n",
       "      <td>10278038</td>\n",
       "      <td>47.30</td>\n",
       "      <td>https://samolet.ru/project/sputnik/flats/20830...</td>\n",
       "    </tr>\n",
       "    <tr>\n",
       "      <th>429</th>\n",
       "      <td>2-комн.</td>\n",
       "      <td>10289057</td>\n",
       "      <td>47.50</td>\n",
       "      <td>https://samolet.ru/project/sputnik/flats/20803...</td>\n",
       "    </tr>\n",
       "    <tr>\n",
       "      <th>430</th>\n",
       "      <td>2-комн.</td>\n",
       "      <td>10320072</td>\n",
       "      <td>49.85</td>\n",
       "      <td>https://samolet.ru/project/sputnik/flats/95107...</td>\n",
       "    </tr>\n",
       "    <tr>\n",
       "      <th>431</th>\n",
       "      <td>1-комн.</td>\n",
       "      <td>10332981</td>\n",
       "      <td>49.19</td>\n",
       "      <td>https://samolet.ru/project/sputnik/flats/11457...</td>\n",
       "    </tr>\n",
       "    <tr>\n",
       "      <th>432</th>\n",
       "      <td>2-комн.</td>\n",
       "      <td>10366584</td>\n",
       "      <td>54.30</td>\n",
       "      <td>https://samolet.ru/project/sputnik/flats/21098...</td>\n",
       "    </tr>\n",
       "    <tr>\n",
       "      <th>433</th>\n",
       "      <td>2-комн.</td>\n",
       "      <td>10366961</td>\n",
       "      <td>47.00</td>\n",
       "      <td>https://samolet.ru/project/sputnik/flats/20832...</td>\n",
       "    </tr>\n",
       "    <tr>\n",
       "      <th>434</th>\n",
       "      <td>2-комн.</td>\n",
       "      <td>10446219</td>\n",
       "      <td>50.70</td>\n",
       "      <td>https://samolet.ru/project/sputnik/flats/20809...</td>\n",
       "    </tr>\n",
       "  </tbody>\n",
       "</table>\n",
       "</div>"
      ],
      "text/plain": [
       "    Тип квартиры      Цена  Площадь (м²)  \\\n",
       "425      2-комн.  10179436         47.10   \n",
       "426      2-комн.  10182764         46.60   \n",
       "427      1-комн.  10184452         49.19   \n",
       "428      2-комн.  10278038         47.30   \n",
       "429      2-комн.  10289057         47.50   \n",
       "430      2-комн.  10320072         49.85   \n",
       "431      1-комн.  10332981         49.19   \n",
       "432      2-комн.  10366584         54.30   \n",
       "433      2-комн.  10366961         47.00   \n",
       "434      2-комн.  10446219         50.70   \n",
       "\n",
       "                                     Ссылка на покупку  \n",
       "425  https://samolet.ru/project/sputnik/flats/20824...  \n",
       "426  https://samolet.ru/project/sputnik/flats/20833...  \n",
       "427  https://samolet.ru/project/sputnik/flats/11447...  \n",
       "428  https://samolet.ru/project/sputnik/flats/20830...  \n",
       "429  https://samolet.ru/project/sputnik/flats/20803...  \n",
       "430  https://samolet.ru/project/sputnik/flats/95107...  \n",
       "431  https://samolet.ru/project/sputnik/flats/11457...  \n",
       "432  https://samolet.ru/project/sputnik/flats/21098...  \n",
       "433  https://samolet.ru/project/sputnik/flats/20832...  \n",
       "434  https://samolet.ru/project/sputnik/flats/20809...  "
      ]
     },
     "execution_count": 111,
     "metadata": {},
     "output_type": "execute_result"
    }
   ],
   "source": [
    "# Данные, попавшие в первый доверительный интервал\n",
    "first_interval_data = flats_df[(interval1_left<flats_df['Цена']) & (flats_df['Цена']<interval1_right)]\n",
    "first_interval_data"
   ]
  },
  {
   "cell_type": "markdown",
   "metadata": {},
   "source": [
    "### Часть 3.2\n",
    "*Способ первый - медиана и стандартное отклонение*"
   ]
  },
  {
   "cell_type": "code",
   "execution_count": 105,
   "metadata": {},
   "outputs": [
    {
     "name": "stdout",
     "output_type": "stream",
     "text": [
      "Полученный первым способом доверительный интервал: (6701444.741, 11852919.259)\n"
     ]
    }
   ],
   "source": [
    "prices_median = prices.median()\n",
    "interval2_left, interval2_right = prices_median-prices_std, prices_median+prices_std\n",
    "print(f\"Полученный первым способом доверительный интервал: ({interval2_left:.3f}, {interval2_right:.3f})\")"
   ]
  },
  {
   "cell_type": "code",
   "execution_count": 112,
   "metadata": {},
   "outputs": [
    {
     "data": {
      "text/html": [
       "<div>\n",
       "<style scoped>\n",
       "    .dataframe tbody tr th:only-of-type {\n",
       "        vertical-align: middle;\n",
       "    }\n",
       "\n",
       "    .dataframe tbody tr th {\n",
       "        vertical-align: top;\n",
       "    }\n",
       "\n",
       "    .dataframe thead th {\n",
       "        text-align: right;\n",
       "    }\n",
       "</style>\n",
       "<table border=\"1\" class=\"dataframe\">\n",
       "  <thead>\n",
       "    <tr style=\"text-align: right;\">\n",
       "      <th></th>\n",
       "      <th>Тип квартиры</th>\n",
       "      <th>Цена</th>\n",
       "      <th>Площадь (м²)</th>\n",
       "      <th>Ссылка на покупку</th>\n",
       "    </tr>\n",
       "  </thead>\n",
       "  <tbody>\n",
       "    <tr>\n",
       "      <th>17</th>\n",
       "      <td>Студия</td>\n",
       "      <td>6714467</td>\n",
       "      <td>24.60</td>\n",
       "      <td>https://samolet.ru/project/sputnik/flats/21085...</td>\n",
       "    </tr>\n",
       "    <tr>\n",
       "      <th>18</th>\n",
       "      <td>Студия</td>\n",
       "      <td>6761379</td>\n",
       "      <td>24.60</td>\n",
       "      <td>https://samolet.ru/project/sputnik/flats/21111...</td>\n",
       "    </tr>\n",
       "    <tr>\n",
       "      <th>19</th>\n",
       "      <td>Студия</td>\n",
       "      <td>6784028</td>\n",
       "      <td>25.60</td>\n",
       "      <td>https://samolet.ru/project/sputnik/flats/20792...</td>\n",
       "    </tr>\n",
       "    <tr>\n",
       "      <th>20</th>\n",
       "      <td>Студия</td>\n",
       "      <td>6838219</td>\n",
       "      <td>24.10</td>\n",
       "      <td>https://samolet.ru/project/sputnik/flats/20816...</td>\n",
       "    </tr>\n",
       "    <tr>\n",
       "      <th>21</th>\n",
       "      <td>Студия</td>\n",
       "      <td>6892499</td>\n",
       "      <td>25.10</td>\n",
       "      <td>https://samolet.ru/project/sputnik/flats/21089...</td>\n",
       "    </tr>\n",
       "    <tr>\n",
       "      <th>...</th>\n",
       "      <td>...</td>\n",
       "      <td>...</td>\n",
       "      <td>...</td>\n",
       "      <td>...</td>\n",
       "    </tr>\n",
       "    <tr>\n",
       "      <th>477</th>\n",
       "      <td>2-комн.</td>\n",
       "      <td>11725172</td>\n",
       "      <td>49.19</td>\n",
       "      <td>https://samolet.ru/project/sputnik/flats/11468...</td>\n",
       "    </tr>\n",
       "    <tr>\n",
       "      <th>478</th>\n",
       "      <td>2-комн.</td>\n",
       "      <td>11735854</td>\n",
       "      <td>48.95</td>\n",
       "      <td>https://samolet.ru/project/sputnik/flats/11474...</td>\n",
       "    </tr>\n",
       "    <tr>\n",
       "      <th>479</th>\n",
       "      <td>2-комн.</td>\n",
       "      <td>11792026</td>\n",
       "      <td>49.12</td>\n",
       "      <td>https://samolet.ru/project/sputnik/flats/11476...</td>\n",
       "    </tr>\n",
       "    <tr>\n",
       "      <th>480</th>\n",
       "      <td>2-комн.</td>\n",
       "      <td>11824839</td>\n",
       "      <td>49.12</td>\n",
       "      <td>https://samolet.ru/project/sputnik/flats/11479...</td>\n",
       "    </tr>\n",
       "    <tr>\n",
       "      <th>481</th>\n",
       "      <td>2-комн.</td>\n",
       "      <td>11841539</td>\n",
       "      <td>49.12</td>\n",
       "      <td>https://samolet.ru/project/sputnik/flats/11481...</td>\n",
       "    </tr>\n",
       "  </tbody>\n",
       "</table>\n",
       "<p>465 rows × 4 columns</p>\n",
       "</div>"
      ],
      "text/plain": [
       "    Тип квартиры      Цена  Площадь (м²)  \\\n",
       "17        Студия   6714467         24.60   \n",
       "18        Студия   6761379         24.60   \n",
       "19        Студия   6784028         25.60   \n",
       "20        Студия   6838219         24.10   \n",
       "21        Студия   6892499         25.10   \n",
       "..           ...       ...           ...   \n",
       "477      2-комн.  11725172         49.19   \n",
       "478      2-комн.  11735854         48.95   \n",
       "479      2-комн.  11792026         49.12   \n",
       "480      2-комн.  11824839         49.12   \n",
       "481      2-комн.  11841539         49.12   \n",
       "\n",
       "                                     Ссылка на покупку  \n",
       "17   https://samolet.ru/project/sputnik/flats/21085...  \n",
       "18   https://samolet.ru/project/sputnik/flats/21111...  \n",
       "19   https://samolet.ru/project/sputnik/flats/20792...  \n",
       "20   https://samolet.ru/project/sputnik/flats/20816...  \n",
       "21   https://samolet.ru/project/sputnik/flats/21089...  \n",
       "..                                                 ...  \n",
       "477  https://samolet.ru/project/sputnik/flats/11468...  \n",
       "478  https://samolet.ru/project/sputnik/flats/11474...  \n",
       "479  https://samolet.ru/project/sputnik/flats/11476...  \n",
       "480  https://samolet.ru/project/sputnik/flats/11479...  \n",
       "481  https://samolet.ru/project/sputnik/flats/11481...  \n",
       "\n",
       "[465 rows x 4 columns]"
      ]
     },
     "execution_count": 112,
     "metadata": {},
     "output_type": "execute_result"
    }
   ],
   "source": [
    "# Данные, попавшие во второй доверительный интервал\n",
    "second_interval_data = flats_df[(interval2_left<flats_df['Цена']) & (flats_df['Цена']<interval2_right)]\n",
    "second_interval_data"
   ]
  },
  {
   "cell_type": "markdown",
   "metadata": {},
   "source": [
    "## Часть 4\n",
    "**Выгрузка результатов**"
   ]
  },
  {
   "cell_type": "markdown",
   "metadata": {},
   "source": [
    "Из полученных данных очевидно, что первый доверительный интервал полностью включен во второй. Значит, результатом будет являться первый доверительный интервал. Его сохраним в файле \"main_result.csv\". Но второй результат тоже сохраним в файле \"additional_result.csv\""
   ]
  },
  {
   "cell_type": "code",
   "execution_count": 114,
   "metadata": {},
   "outputs": [],
   "source": [
    "first_interval_data.to_csv(\"main_result.csv\", index=False)\n",
    "second_interval_data.to_csv(\"additional_result.csv\", index=False)"
   ]
  }
 ],
 "metadata": {
  "kernelspec": {
   "display_name": "Python 3.9.7 ('base')",
   "language": "python",
   "name": "python3"
  },
  "language_info": {
   "codemirror_mode": {
    "name": "ipython",
    "version": 3
   },
   "file_extension": ".py",
   "mimetype": "text/x-python",
   "name": "python",
   "nbconvert_exporter": "python",
   "pygments_lexer": "ipython3",
   "version": "3.9.7"
  },
  "orig_nbformat": 4,
  "vscode": {
   "interpreter": {
    "hash": "00aef3b98e4ccb3322387f6c47ad24282262e1fd4d41067bd78cec0ceaa17bd0"
   }
  }
 },
 "nbformat": 4,
 "nbformat_minor": 2
}
